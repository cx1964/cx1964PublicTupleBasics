{
  "nbformat": 4,
  "nbformat_minor": 0,
  "metadata": {
    "colab": {
      "name": "testcolabnotebook.ipynb",
      "provenance": [],
      "collapsed_sections": [],
      "authorship_tag": "ABX9TyO+Vh5ZbDLzkj8Q6P/nPYj1",
      "include_colab_link": true
    },
    "kernelspec": {
      "name": "python3",
      "display_name": "Python 3"
    }
  },
  "cells": [
    {
      "cell_type": "markdown",
      "metadata": {
        "id": "view-in-github",
        "colab_type": "text"
      },
      "source": [
        "<a href=\"https://colab.research.google.com/github/cx1964/cx1964PublicTupleBasics/blob/master/testcolabnotebook.ipynb\" target=\"_parent\"><img src=\"https://colab.research.google.com/assets/colab-badge.svg\" alt=\"Open In Colab\"/></a>"
      ]
    },
    {
      "cell_type": "code",
      "metadata": {
        "id": "U7jZtwg9nG-F",
        "outputId": "c29d0ab5-2758-4952-d8cc-37dd851c1dd9",
        "colab": {
          "base_uri": "https://localhost:8080/",
          "height": 89
        }
      },
      "source": [
        "# file: testcolabnotebook.ipynb\n",
        "print (\"tuple basics\")\n",
        "\n",
        "# test print deel van een tuple\n",
        "mytuple=('a','b','c','d')\n",
        "print(\"volldige mytuple:\", mytuple)\n",
        "\n",
        "print(\"deel van mytuple:\",mytuple[1:3])\n",
        "# dynamisch een deel van een tuple\n",
        "start=0\n",
        "stop=3\n",
        "tuple2=mytuple[slice(start,stop)]\n",
        "print(\"dynamisch deel mytuple:\",tuple2)\n",
        "\n",
        "\n"
      ],
      "execution_count": null,
      "outputs": [
        {
          "output_type": "stream",
          "text": [
            "tuple basics\n",
            "volldige mytuple: ('a', 'b', 'c', 'd')\n",
            "deel van mytuple: ('b', 'c')\n",
            "dynamisch deel mytuple: ('a', 'b', 'c')\n"
          ],
          "name": "stdout"
        }
      ]
    }
  ]
}